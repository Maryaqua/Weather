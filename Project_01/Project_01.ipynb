{
 "cells": [
  {
   "cell_type": "code",
   "execution_count": null,
   "id": "a401bedd",
   "metadata": {},
   "outputs": [],
   "source": [
    "# Analyzing the data of England Weather:"
   ]
  },
  {
   "cell_type": "code",
   "execution_count": 1,
   "id": "717f0297",
   "metadata": {},
   "outputs": [],
   "source": [
    "# import libraries\n",
    "import numpy as np\n",
    "import pandas as pd\n",
    "import matplotlib.pyplot as plt\n",
    "import seaborn as sns"
   ]
  },
  {
   "cell_type": "code",
   "execution_count": 2,
   "id": "54b85821",
   "metadata": {},
   "outputs": [
    {
     "data": {
      "text/html": [
       "<div>\n",
       "<style scoped>\n",
       "    .dataframe tbody tr th:only-of-type {\n",
       "        vertical-align: middle;\n",
       "    }\n",
       "\n",
       "    .dataframe tbody tr th {\n",
       "        vertical-align: top;\n",
       "    }\n",
       "\n",
       "    .dataframe thead th {\n",
       "        text-align: right;\n",
       "    }\n",
       "</style>\n",
       "<table border=\"1\" class=\"dataframe\">\n",
       "  <thead>\n",
       "    <tr style=\"text-align: right;\">\n",
       "      <th></th>\n",
       "      <th>Formatted</th>\n",
       "      <th>Summary</th>\n",
       "      <th>Precip Type</th>\n",
       "      <th>Temperature (C)</th>\n",
       "      <th>Wind Speed (km/h)</th>\n",
       "      <th>Pressure (millibars)</th>\n",
       "      <th>Humidity</th>\n",
       "    </tr>\n",
       "  </thead>\n",
       "  <tbody>\n",
       "    <tr>\n",
       "      <th>0</th>\n",
       "      <td>2006-01-01</td>\n",
       "      <td>Partly Cloudy</td>\n",
       "      <td>rain</td>\n",
       "      <td>0.577778</td>\n",
       "      <td>17.1143</td>\n",
       "      <td>1016.66</td>\n",
       "      <td>0.89</td>\n",
       "    </tr>\n",
       "    <tr>\n",
       "      <th>1</th>\n",
       "      <td>2006-01-01</td>\n",
       "      <td>Mostly Cloudy</td>\n",
       "      <td>rain</td>\n",
       "      <td>1.161111</td>\n",
       "      <td>16.6152</td>\n",
       "      <td>1016.15</td>\n",
       "      <td>0.85</td>\n",
       "    </tr>\n",
       "    <tr>\n",
       "      <th>2</th>\n",
       "      <td>2006-01-01</td>\n",
       "      <td>Mostly Cloudy</td>\n",
       "      <td>rain</td>\n",
       "      <td>1.666667</td>\n",
       "      <td>20.2538</td>\n",
       "      <td>1015.87</td>\n",
       "      <td>0.82</td>\n",
       "    </tr>\n",
       "    <tr>\n",
       "      <th>3</th>\n",
       "      <td>2006-01-01</td>\n",
       "      <td>Overcast</td>\n",
       "      <td>rain</td>\n",
       "      <td>1.711111</td>\n",
       "      <td>14.4900</td>\n",
       "      <td>1015.56</td>\n",
       "      <td>0.82</td>\n",
       "    </tr>\n",
       "    <tr>\n",
       "      <th>4</th>\n",
       "      <td>2006-01-01</td>\n",
       "      <td>Mostly Cloudy</td>\n",
       "      <td>rain</td>\n",
       "      <td>1.183333</td>\n",
       "      <td>13.9426</td>\n",
       "      <td>1014.98</td>\n",
       "      <td>0.86</td>\n",
       "    </tr>\n",
       "    <tr>\n",
       "      <th>...</th>\n",
       "      <td>...</td>\n",
       "      <td>...</td>\n",
       "      <td>...</td>\n",
       "      <td>...</td>\n",
       "      <td>...</td>\n",
       "      <td>...</td>\n",
       "      <td>...</td>\n",
       "    </tr>\n",
       "    <tr>\n",
       "      <th>96448</th>\n",
       "      <td>2016-12-31</td>\n",
       "      <td>Mostly Cloudy</td>\n",
       "      <td>rain</td>\n",
       "      <td>0.488889</td>\n",
       "      <td>9.7566</td>\n",
       "      <td>1020.03</td>\n",
       "      <td>0.86</td>\n",
       "    </tr>\n",
       "    <tr>\n",
       "      <th>96449</th>\n",
       "      <td>2016-12-31</td>\n",
       "      <td>Mostly Cloudy</td>\n",
       "      <td>rain</td>\n",
       "      <td>0.072222</td>\n",
       "      <td>9.4185</td>\n",
       "      <td>1020.27</td>\n",
       "      <td>0.88</td>\n",
       "    </tr>\n",
       "    <tr>\n",
       "      <th>96450</th>\n",
       "      <td>2016-12-31</td>\n",
       "      <td>Mostly Cloudy</td>\n",
       "      <td>snow</td>\n",
       "      <td>-0.233333</td>\n",
       "      <td>9.2736</td>\n",
       "      <td>1020.50</td>\n",
       "      <td>0.89</td>\n",
       "    </tr>\n",
       "    <tr>\n",
       "      <th>96451</th>\n",
       "      <td>2016-12-31</td>\n",
       "      <td>Mostly Cloudy</td>\n",
       "      <td>snow</td>\n",
       "      <td>-0.472222</td>\n",
       "      <td>9.2414</td>\n",
       "      <td>1020.65</td>\n",
       "      <td>0.91</td>\n",
       "    </tr>\n",
       "    <tr>\n",
       "      <th>96452</th>\n",
       "      <td>2016-12-31</td>\n",
       "      <td>Mostly Cloudy</td>\n",
       "      <td>snow</td>\n",
       "      <td>-0.677778</td>\n",
       "      <td>9.2253</td>\n",
       "      <td>1020.72</td>\n",
       "      <td>0.92</td>\n",
       "    </tr>\n",
       "  </tbody>\n",
       "</table>\n",
       "<p>96453 rows × 7 columns</p>\n",
       "</div>"
      ],
      "text/plain": [
       "        Formatted        Summary Precip Type  Temperature (C)  \\\n",
       "0      2006-01-01  Partly Cloudy        rain         0.577778   \n",
       "1      2006-01-01  Mostly Cloudy        rain         1.161111   \n",
       "2      2006-01-01  Mostly Cloudy        rain         1.666667   \n",
       "3      2006-01-01       Overcast        rain         1.711111   \n",
       "4      2006-01-01  Mostly Cloudy        rain         1.183333   \n",
       "...           ...            ...         ...              ...   \n",
       "96448  2016-12-31  Mostly Cloudy        rain         0.488889   \n",
       "96449  2016-12-31  Mostly Cloudy        rain         0.072222   \n",
       "96450  2016-12-31  Mostly Cloudy        snow        -0.233333   \n",
       "96451  2016-12-31  Mostly Cloudy        snow        -0.472222   \n",
       "96452  2016-12-31  Mostly Cloudy        snow        -0.677778   \n",
       "\n",
       "       Wind Speed (km/h)  Pressure (millibars)  Humidity  \n",
       "0                17.1143               1016.66      0.89  \n",
       "1                16.6152               1016.15      0.85  \n",
       "2                20.2538               1015.87      0.82  \n",
       "3                14.4900               1015.56      0.82  \n",
       "4                13.9426               1014.98      0.86  \n",
       "...                  ...                   ...       ...  \n",
       "96448             9.7566               1020.03      0.86  \n",
       "96449             9.4185               1020.27      0.88  \n",
       "96450             9.2736               1020.50      0.89  \n",
       "96451             9.2414               1020.65      0.91  \n",
       "96452             9.2253               1020.72      0.92  \n",
       "\n",
       "[96453 rows x 7 columns]"
      ]
     },
     "execution_count": 2,
     "metadata": {},
     "output_type": "execute_result"
    }
   ],
   "source": [
    "# import data\n",
    "Data = pd.read_csv(\"D:\\EnglandWeather.csv\")\n",
    "Data"
   ]
  },
  {
   "cell_type": "code",
   "execution_count": 3,
   "id": "c8cffe6a",
   "metadata": {},
   "outputs": [],
   "source": [
    "# make dataframe\n",
    "df = pd.DataFrame(Data)"
   ]
  },
  {
   "cell_type": "code",
   "execution_count": 5,
   "id": "c26d3c58",
   "metadata": {},
   "outputs": [],
   "source": [
    "# numerical columns\n",
    "df_1 = pd.DataFrame (Data, columns = ['Temperature (C)','Wind Speed (km/h)', 'Pressure (millibars)', 'Humidity'])"
   ]
  },
  {
   "cell_type": "code",
   "execution_count": 6,
   "id": "5b23daa3",
   "metadata": {},
   "outputs": [],
   "source": [
    "# string columns\n",
    "df_2 = pd.DataFrame (Data, columns = ['Summary', 'Precip Type'])"
   ]
  },
  {
   "cell_type": "code",
   "execution_count": 7,
   "id": "3adeb44b",
   "metadata": {},
   "outputs": [
    {
     "data": {
      "text/plain": [
       "(       Temperature (C)  Wind Speed (km/h)  Pressure (millibars)      Humidity\n",
       " count     96453.000000       96453.000000          96453.000000  96453.000000\n",
       " mean         11.932678          10.810640           1003.235956      0.734899\n",
       " std           9.551546           6.913571            116.969906      0.195473\n",
       " min         -21.822222           0.000000              0.000000      0.000000\n",
       " 25%           4.688889           5.828200           1011.900000      0.600000\n",
       " 50%          12.000000           9.965900           1016.450000      0.780000\n",
       " 75%          18.838889          14.135800           1021.090000      0.890000\n",
       " max          39.905556          63.852600           1046.380000      1.000000,\n",
       "               Summary Precip Type\n",
       " count           96453       95936\n",
       " unique             27           2\n",
       " top     Partly Cloudy        rain\n",
       " freq            31733       85224)"
      ]
     },
     "execution_count": 7,
     "metadata": {},
     "output_type": "execute_result"
    }
   ],
   "source": [
    "df_1.describe(), df_2.describe()"
   ]
  },
  {
   "cell_type": "code",
   "execution_count": 8,
   "id": "46c3abcf",
   "metadata": {},
   "outputs": [
    {
     "data": {
      "text/plain": [
       "Formatted               4018\n",
       "Summary                   27\n",
       "Precip Type                2\n",
       "Temperature (C)         7574\n",
       "Wind Speed (km/h)       2484\n",
       "Pressure (millibars)    4979\n",
       "Humidity                  90\n",
       "dtype: int64"
      ]
     },
     "execution_count": 8,
     "metadata": {},
     "output_type": "execute_result"
    }
   ],
   "source": [
    "# To know the number of uniques in each column:\n",
    "df.nunique()"
   ]
  },
  {
   "cell_type": "code",
   "execution_count": 9,
   "id": "3e76af5b",
   "metadata": {},
   "outputs": [
    {
     "data": {
      "text/plain": [
       "array(['rain', 'snow', nan], dtype=object)"
      ]
     },
     "execution_count": 9,
     "metadata": {},
     "output_type": "execute_result"
    }
   ],
   "source": [
    "## to know the name of uniques for a spatial column:\n",
    "df['Precip Type'].unique()"
   ]
  },
  {
   "cell_type": "code",
   "execution_count": 10,
   "id": "0ba86bb5",
   "metadata": {},
   "outputs": [
    {
     "data": {
      "text/plain": [
       "Formatted                object\n",
       "Summary                  object\n",
       "Precip Type              object\n",
       "Temperature (C)         float64\n",
       "Wind Speed (km/h)       float64\n",
       "Pressure (millibars)    float64\n",
       "Humidity                float64\n",
       "dtype: object"
      ]
     },
     "execution_count": 10,
     "metadata": {},
     "output_type": "execute_result"
    }
   ],
   "source": [
    "# Types of each column\n",
    "df.dtypes"
   ]
  },
  {
   "cell_type": "code",
   "execution_count": 11,
   "id": "163a28cc",
   "metadata": {},
   "outputs": [],
   "source": [
    "# convert the format of column Formatted to datetime:\n",
    "df['Formatted'] = pd.to_datetime(df['Formatted'])"
   ]
  },
  {
   "cell_type": "code",
   "execution_count": 12,
   "id": "4062201c",
   "metadata": {},
   "outputs": [
    {
     "data": {
      "text/plain": [
       "Formatted               datetime64[ns]\n",
       "Summary                         object\n",
       "Precip Type                     object\n",
       "Temperature (C)                float64\n",
       "Wind Speed (km/h)              float64\n",
       "Pressure (millibars)           float64\n",
       "Humidity                       float64\n",
       "dtype: object"
      ]
     },
     "execution_count": 12,
     "metadata": {},
     "output_type": "execute_result"
    }
   ],
   "source": [
    "df.dtypes"
   ]
  },
  {
   "cell_type": "code",
   "execution_count": 21,
   "id": "70e319c6",
   "metadata": {},
   "outputs": [
    {
     "data": {
      "text/plain": [
       "Formatted                 0\n",
       "Summary                   0\n",
       "Precip Type             517\n",
       "Temperature (C)           0\n",
       "Wind Speed (km/h)         0\n",
       "Pressure (millibars)      0\n",
       "Humidity                  0\n",
       "Day                       0\n",
       "Month                     0\n",
       "Year                      0\n",
       "dtype: int64"
      ]
     },
     "execution_count": 21,
     "metadata": {},
     "output_type": "execute_result"
    }
   ],
   "source": [
    "# Is there any null data?\n",
    "df.isnull().sum()"
   ]
  },
  {
   "cell_type": "code",
   "execution_count": 13,
   "id": "c6ee0c95",
   "metadata": {},
   "outputs": [],
   "source": [
    "# Extracting day, month and year in separate columns\n",
    "df['Day'] = df['Formatted'].dt.day\n",
    "df['Month'] = df['Formatted'].dt.month\n",
    "df['Year'] = df['Formatted'].dt.year"
   ]
  },
  {
   "cell_type": "code",
   "execution_count": 14,
   "id": "65350cbd",
   "metadata": {},
   "outputs": [
    {
     "data": {
      "text/plain": [
       "<pandas.core.groupby.generic.DataFrameGroupBy object at 0x000002BEAF1D3FD0>"
      ]
     },
     "execution_count": 14,
     "metadata": {},
     "output_type": "execute_result"
    }
   ],
   "source": [
    "# df.groupby(df.Formatted.dt.year)\n",
    "# or:\n",
    "df.groupby('Year')"
   ]
  },
  {
   "cell_type": "code",
   "execution_count": 15,
   "id": "5586c893",
   "metadata": {},
   "outputs": [],
   "source": [
    "## to know how many data exist in each year:\n",
    "Year = pd.to_datetime(df.Formatted).dt.year"
   ]
  },
  {
   "cell_type": "code",
   "execution_count": 16,
   "id": "f9ad9120",
   "metadata": {},
   "outputs": [
    {
     "data": {
      "text/plain": [
       "<AxesSubplot:title={'center':'Number of rows per year:'}, xlabel='Formatted', ylabel='count'>"
      ]
     },
     "execution_count": 16,
     "metadata": {},
     "output_type": "execute_result"
    },
    {
     "data": {
      "image/png": "[encoded data removed]",
      "text/plain": [
       "<Figure size 432x288 with 1 Axes>"
      ]
     },
     "metadata": {
      "needs_background": "light"
     },
     "output_type": "display_data"
    }
   ],
   "source": [
    "plt.title (\"Number of rows per year:\")\n",
    "sns.countplot(x = Year)"
   ]
  },
  {
   "cell_type": "code",
   "execution_count": 17,
   "id": "ea006685",
   "metadata": {},
   "outputs": [],
   "source": [
    "# in each month\n",
    "Month = pd.to_datetime(df.Formatted).dt.month"
   ]
  },
  {
   "cell_type": "code",
   "execution_count": 18,
   "id": "4ff47b62",
   "metadata": {},
   "outputs": [
    {
     "data": {
      "text/plain": [
       "<AxesSubplot:title={'center':'Number of rows per month:'}, xlabel='Formatted', ylabel='count'>"
      ]
     },
     "execution_count": 18,
     "metadata": {},
     "output_type": "execute_result"
    },
    {
     "data": {
      "image/png": "[encoded data removed]",
      "text/plain": [
       "<Figure size 432x288 with 1 Axes>"
      ]
     },
     "metadata": {
      "needs_background": "light"
     },
     "output_type": "display_data"
    }
   ],
   "source": [
    "plt.title (\"Number of rows per month:\")\n",
    "sns.countplot(x = Month)"
   ]
  },
  {
   "cell_type": "code",
   "execution_count": 19,
   "id": "99139814",
   "metadata": {},
   "outputs": [],
   "source": [
    "# In each day\n",
    "Day = pd.to_datetime(df.Formatted).dt.day"
   ]
  },
  {
   "cell_type": "code",
   "execution_count": 20,
   "id": "6d4c42dc",
   "metadata": {
    "scrolled": true
   },
   "outputs": [
    {
     "data": {
      "text/plain": [
       "<AxesSubplot:title={'center':'Number of rows per day:'}, xlabel='Formatted', ylabel='count'>"
      ]
     },
     "execution_count": 20,
     "metadata": {},
     "output_type": "execute_result"
    },
    {
     "data": {
      "image/png": "[encoded data removed]",
      "text/plain": [
       "<Figure size 432x288 with 1 Axes>"
      ]
     },
     "metadata": {
      "needs_background": "light"
     },
     "output_type": "display_data"
    }
   ],
   "source": [
    "plt.title (\"Number of rows per day:\")\n",
    "plt.xticks(rotation=90)\n",
    "sns.countplot(x = Day)"
   ]
  },
  {
   "cell_type": "markdown",
   "id": "53bd1fef",
   "metadata": {},
   "source": [
    "###### According to above data, there are missing values in daily and monthly scale"
   ]
  },
  {
   "cell_type": "markdown",
   "id": "fd5cdc1f",
   "metadata": {},
   "source": [
    "#### Data visualization"
   ]
  },
  {
   "cell_type": "code",
   "execution_count": 22,
   "id": "c37bffa1",
   "metadata": {},
   "outputs": [
    {
     "data": {
      "image/png": "[encoded data removed]",
      "text/plain": [
       "<Figure size 576x360 with 1 Axes>"
      ]
     },
     "metadata": {
      "needs_background": "light"
     },
     "output_type": "display_data"
    }
   ],
   "source": [
    "# Scatter plot of Temperature (C) and Humidity\n",
    "plt.figure (figsize = (8, 5))\n",
    "plt.scatter(df['Temperature (C)'], df['Humidity'])\n",
    "plt.xlabel('Temperature')\n",
    "plt.ylabel('Humidity')\n",
    "plt.grid()\n",
    "plt.savefig('D:\\Scientific Topics\\AI\\IMT1.ir_Machine Learning\\My_Projects\\Weather_4_and_5_Data\\Plots_England\\T_H.jpg')\n",
    "plt.show()"
   ]
  },
  {
   "cell_type": "code",
   "execution_count": 24,
   "id": "30aa4852",
   "metadata": {},
   "outputs": [
    {
     "data": {
      "image/png": "[encoded data removed]",
      "text/plain": [
       "<Figure size 576x360 with 1 Axes>"
      ]
     },
     "metadata": {
      "needs_background": "light"
     },
     "output_type": "display_data"
    }
   ],
   "source": [
    "# Scatter plot of Wind Speed (km/h) and Humidity\n",
    "plt.figure (figsize = (8, 5))\n",
    "plt.scatter(df['Wind Speed (km/h)'], df['Humidity'])\n",
    "plt.xlabel('Wind Speed (km/h)')\n",
    "plt.ylabel('Humidity')\n",
    "plt.grid()\n",
    "plt.savefig('D:\\Scientific Topics\\AI\\IMT1.ir_Machine Learning\\My_Projects\\Weather_4_and_5_Data\\Plots_England\\W_H.jpg')\n",
    "plt.show()"
   ]
  },
  {
   "cell_type": "code",
   "execution_count": 26,
   "id": "986ba61c",
   "metadata": {
    "scrolled": true
   },
   "outputs": [
    {
     "data": {
      "image/png": "[encoded data removed]",
      "text/plain": [
       "<Figure size 576x360 with 1 Axes>"
      ]
     },
     "metadata": {
      "needs_background": "light"
     },
     "output_type": "display_data"
    }
   ],
   "source": [
    "# Scatter plot of Pressure (millibars) and Humidity\n",
    "plt.figure (figsize = (8, 5))\n",
    "plt.scatter(df['Pressure (millibars)'], df['Humidity'])\n",
    "plt.xlabel('Pressure (millibars)')\n",
    "plt.ylabel('Humidity')\n",
    "plt.grid()\n",
    "plt.savefig('D:\\Scientific Topics\\AI\\IMT1.ir_Machine Learning\\My_Projects\\Weather_4_and_5_Data\\Plots_England\\P_H.jpg')\n",
    "plt.show()"
   ]
  },
  {
   "cell_type": "markdown",
   "id": "a25da665",
   "metadata": {},
   "source": [
    "#### As an example: Plot of Pressure and Humidity in 2006:"
   ]
  },
  {
   "cell_type": "code",
   "execution_count": 27,
   "id": "87879418",
   "metadata": {},
   "outputs": [
    {
     "data": {
      "text/html": [
       "<div>\n",
       "<style scoped>\n",
       "    .dataframe tbody tr th:only-of-type {\n",
       "        vertical-align: middle;\n",
       "    }\n",
       "\n",
       "    .dataframe tbody tr th {\n",
       "        vertical-align: top;\n",
       "    }\n",
       "\n",
       "    .dataframe thead th {\n",
       "        text-align: right;\n",
       "    }\n",
       "</style>\n",
       "<table border=\"1\" class=\"dataframe\">\n",
       "  <thead>\n",
       "    <tr style=\"text-align: right;\">\n",
       "      <th></th>\n",
       "      <th>Formatted</th>\n",
       "      <th>Summary</th>\n",
       "      <th>Precip Type</th>\n",
       "      <th>Temperature (C)</th>\n",
       "      <th>Wind Speed (km/h)</th>\n",
       "      <th>Pressure (millibars)</th>\n",
       "      <th>Humidity</th>\n",
       "      <th>Day</th>\n",
       "      <th>Month</th>\n",
       "      <th>Year</th>\n",
       "    </tr>\n",
       "  </thead>\n",
       "  <tbody>\n",
       "    <tr>\n",
       "      <th>0</th>\n",
       "      <td>2006-01-01</td>\n",
       "      <td>Partly Cloudy</td>\n",
       "      <td>rain</td>\n",
       "      <td>0.577778</td>\n",
       "      <td>17.1143</td>\n",
       "      <td>1016.66</td>\n",
       "      <td>0.89</td>\n",
       "      <td>1</td>\n",
       "      <td>1</td>\n",
       "      <td>2006</td>\n",
       "    </tr>\n",
       "    <tr>\n",
       "      <th>1</th>\n",
       "      <td>2006-01-01</td>\n",
       "      <td>Mostly Cloudy</td>\n",
       "      <td>rain</td>\n",
       "      <td>1.161111</td>\n",
       "      <td>16.6152</td>\n",
       "      <td>1016.15</td>\n",
       "      <td>0.85</td>\n",
       "      <td>1</td>\n",
       "      <td>1</td>\n",
       "      <td>2006</td>\n",
       "    </tr>\n",
       "    <tr>\n",
       "      <th>2</th>\n",
       "      <td>2006-01-01</td>\n",
       "      <td>Mostly Cloudy</td>\n",
       "      <td>rain</td>\n",
       "      <td>1.666667</td>\n",
       "      <td>20.2538</td>\n",
       "      <td>1015.87</td>\n",
       "      <td>0.82</td>\n",
       "      <td>1</td>\n",
       "      <td>1</td>\n",
       "      <td>2006</td>\n",
       "    </tr>\n",
       "    <tr>\n",
       "      <th>3</th>\n",
       "      <td>2006-01-01</td>\n",
       "      <td>Overcast</td>\n",
       "      <td>rain</td>\n",
       "      <td>1.711111</td>\n",
       "      <td>14.4900</td>\n",
       "      <td>1015.56</td>\n",
       "      <td>0.82</td>\n",
       "      <td>1</td>\n",
       "      <td>1</td>\n",
       "      <td>2006</td>\n",
       "    </tr>\n",
       "    <tr>\n",
       "      <th>4</th>\n",
       "      <td>2006-01-01</td>\n",
       "      <td>Mostly Cloudy</td>\n",
       "      <td>rain</td>\n",
       "      <td>1.183333</td>\n",
       "      <td>13.9426</td>\n",
       "      <td>1014.98</td>\n",
       "      <td>0.86</td>\n",
       "      <td>1</td>\n",
       "      <td>1</td>\n",
       "      <td>2006</td>\n",
       "    </tr>\n",
       "    <tr>\n",
       "      <th>...</th>\n",
       "      <td>...</td>\n",
       "      <td>...</td>\n",
       "      <td>...</td>\n",
       "      <td>...</td>\n",
       "      <td>...</td>\n",
       "      <td>...</td>\n",
       "      <td>...</td>\n",
       "      <td>...</td>\n",
       "      <td>...</td>\n",
       "      <td>...</td>\n",
       "    </tr>\n",
       "    <tr>\n",
       "      <th>8755</th>\n",
       "      <td>2006-12-31</td>\n",
       "      <td>Foggy</td>\n",
       "      <td>snow</td>\n",
       "      <td>-0.827778</td>\n",
       "      <td>9.7405</td>\n",
       "      <td>1035.95</td>\n",
       "      <td>0.92</td>\n",
       "      <td>31</td>\n",
       "      <td>12</td>\n",
       "      <td>2006</td>\n",
       "    </tr>\n",
       "    <tr>\n",
       "      <th>8756</th>\n",
       "      <td>2006-12-31</td>\n",
       "      <td>Foggy</td>\n",
       "      <td>snow</td>\n",
       "      <td>-2.011111</td>\n",
       "      <td>10.6904</td>\n",
       "      <td>1035.78</td>\n",
       "      <td>0.99</td>\n",
       "      <td>31</td>\n",
       "      <td>12</td>\n",
       "      <td>2006</td>\n",
       "    </tr>\n",
       "    <tr>\n",
       "      <th>8757</th>\n",
       "      <td>2006-12-31</td>\n",
       "      <td>Foggy</td>\n",
       "      <td>snow</td>\n",
       "      <td>-1.500000</td>\n",
       "      <td>10.8997</td>\n",
       "      <td>1034.92</td>\n",
       "      <td>0.96</td>\n",
       "      <td>31</td>\n",
       "      <td>12</td>\n",
       "      <td>2006</td>\n",
       "    </tr>\n",
       "    <tr>\n",
       "      <th>8758</th>\n",
       "      <td>2006-12-31</td>\n",
       "      <td>Foggy</td>\n",
       "      <td>snow</td>\n",
       "      <td>-0.950000</td>\n",
       "      <td>12.1394</td>\n",
       "      <td>1035.01</td>\n",
       "      <td>0.96</td>\n",
       "      <td>31</td>\n",
       "      <td>12</td>\n",
       "      <td>2006</td>\n",
       "    </tr>\n",
       "    <tr>\n",
       "      <th>8759</th>\n",
       "      <td>2006-12-31</td>\n",
       "      <td>Foggy</td>\n",
       "      <td>snow</td>\n",
       "      <td>-0.672222</td>\n",
       "      <td>10.1430</td>\n",
       "      <td>1034.33</td>\n",
       "      <td>0.93</td>\n",
       "      <td>31</td>\n",
       "      <td>12</td>\n",
       "      <td>2006</td>\n",
       "    </tr>\n",
       "  </tbody>\n",
       "</table>\n",
       "<p>8760 rows × 10 columns</p>\n",
       "</div>"
      ],
      "text/plain": [
       "      Formatted        Summary Precip Type  Temperature (C)  \\\n",
       "0    2006-01-01  Partly Cloudy        rain         0.577778   \n",
       "1    2006-01-01  Mostly Cloudy        rain         1.161111   \n",
       "2    2006-01-01  Mostly Cloudy        rain         1.666667   \n",
       "3    2006-01-01       Overcast        rain         1.711111   \n",
       "4    2006-01-01  Mostly Cloudy        rain         1.183333   \n",
       "...         ...            ...         ...              ...   \n",
       "8755 2006-12-31          Foggy        snow        -0.827778   \n",
       "8756 2006-12-31          Foggy        snow        -2.011111   \n",
       "8757 2006-12-31          Foggy        snow        -1.500000   \n",
       "8758 2006-12-31          Foggy        snow        -0.950000   \n",
       "8759 2006-12-31          Foggy        snow        -0.672222   \n",
       "\n",
       "      Wind Speed (km/h)  Pressure (millibars)  Humidity  Day  Month  Year  \n",
       "0               17.1143               1016.66      0.89    1      1  2006  \n",
       "1               16.6152               1016.15      0.85    1      1  2006  \n",
       "2               20.2538               1015.87      0.82    1      1  2006  \n",
       "3               14.4900               1015.56      0.82    1      1  2006  \n",
       "4               13.9426               1014.98      0.86    1      1  2006  \n",
       "...                 ...                   ...       ...  ...    ...   ...  \n",
       "8755             9.7405               1035.95      0.92   31     12  2006  \n",
       "8756            10.6904               1035.78      0.99   31     12  2006  \n",
       "8757            10.8997               1034.92      0.96   31     12  2006  \n",
       "8758            12.1394               1035.01      0.96   31     12  2006  \n",
       "8759            10.1430               1034.33      0.93   31     12  2006  \n",
       "\n",
       "[8760 rows x 10 columns]"
      ]
     },
     "execution_count": 27,
     "metadata": {},
     "output_type": "execute_result"
    }
   ],
   "source": [
    "df2006 = df[df['Year'] == 2006]\n",
    "df2006"
   ]
  },
  {
   "cell_type": "code",
   "execution_count": 28,
   "id": "2335b84d",
   "metadata": {},
   "outputs": [],
   "source": [
    "# pressure without 0 numbers:\n",
    "df2006_1 = df2006[df2006[\"Pressure (millibars)\"] != 0]"
   ]
  },
  {
   "cell_type": "code",
   "execution_count": 29,
   "id": "ae9cf699",
   "metadata": {
    "scrolled": true
   },
   "outputs": [
    {
     "data": {
      "image/png": "[encoded data removed]",
      "text/plain": [
       "<Figure size 576x360 with 1 Axes>"
      ]
     },
     "metadata": {
      "needs_background": "light"
     },
     "output_type": "display_data"
    }
   ],
   "source": [
    "# Scatter plot of Pressure and Humidity\n",
    "plt.figure (figsize = (8, 5))\n",
    "plt.scatter(df2006_1['Pressure (millibars)'], df2006_1['Humidity'])\n",
    "plt.xlabel('Pressure')\n",
    "plt.ylabel('Humidity')\n",
    "plt.grid()\n",
    "plt.savefig('D:\\Scientific Topics\\AI\\IMT1.ir_Machine Learning\\My_Projects\\Weather_4_and_5_Data\\Plots_England\\P_H_2006.jpg')\n",
    "plt.show()"
   ]
  },
  {
   "cell_type": "markdown",
   "id": "e405d786",
   "metadata": {},
   "source": [
    "#### As an example: Plot of monthly Humidity in 2007:"
   ]
  },
  {
   "cell_type": "code",
   "execution_count": 30,
   "id": "585b3277",
   "metadata": {},
   "outputs": [],
   "source": [
    "df2007 = df[df['Year'] == 2007]"
   ]
  },
  {
   "cell_type": "code",
   "execution_count": 31,
   "id": "3040d0f0",
   "metadata": {},
   "outputs": [
    {
     "data": {
      "image/png": "[encoded data removed]",
      "text/plain": [
       "<Figure size 576x360 with 1 Axes>"
      ]
     },
     "metadata": {
      "needs_background": "light"
     },
     "output_type": "display_data"
    }
   ],
   "source": [
    "# Scatter plot of Humidity\n",
    "plt.figure (figsize = (8, 5))\n",
    "plt.scatter(df2007['Month'], df2007['Humidity'])\n",
    "plt.xlabel('Month')\n",
    "plt.ylabel('Humidity')\n",
    "plt.grid()\n",
    "plt.savefig('D:\\Scientific Topics\\AI\\IMT1.ir_Machine Learning\\My_Projects\\Weather_4_and_5_Data\\Plots_England\\month_H_2007.jpg')\n",
    "plt.show()"
   ]
  }
 ],
 "metadata": {
  "kernelspec": {
   "display_name": "Python 3 (ipykernel)",
   "language": "python",
   "name": "python3"
  },
  "language_info": {
   "codemirror_mode": {
    "name": "ipython",
    "version": 3
   },
   "file_extension": ".py",
   "mimetype": "text/x-python",
   "name": "python",
   "nbconvert_exporter": "python",
   "pygments_lexer": "ipython3",
   "version": "3.9.7"
  }
 },
 "nbformat": 4,
 "nbformat_minor": 5
}
